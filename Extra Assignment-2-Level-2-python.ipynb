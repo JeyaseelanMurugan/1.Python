{
 "cells": [
  {
   "cell_type": "code",
   "execution_count": null,
   "id": "4b85d341-2449-4999-b8f7-02a98fbcf8a5",
   "metadata": {},
   "outputs": [],
   "source": [
    "# print 0 to 20 by using range"
   ]
  },
  {
   "cell_type": "code",
   "execution_count": 1,
   "id": "ebd92006-311f-4085-b0b9-23433a5282f9",
   "metadata": {},
   "outputs": [
    {
     "name": "stdout",
     "output_type": "stream",
     "text": [
      "0\n",
      "1\n",
      "2\n",
      "3\n",
      "4\n",
      "5\n",
      "6\n",
      "7\n",
      "8\n",
      "9\n",
      "10\n",
      "11\n",
      "12\n",
      "13\n",
      "14\n",
      "15\n",
      "16\n",
      "17\n",
      "18\n",
      "19\n"
     ]
    }
   ],
   "source": [
    "for num in range(0,20):\n",
    "    print(num)"
   ]
  },
  {
   "cell_type": "code",
   "execution_count": null,
   "id": "0fd311e4-1c2a-49cb-8a1e-fd97c144cdf3",
   "metadata": {},
   "outputs": [],
   "source": [
    "# print range 10 to 20"
   ]
  },
  {
   "cell_type": "code",
   "execution_count": 2,
   "id": "4600542d-5782-4ae7-a0c9-30c0d7c1566c",
   "metadata": {},
   "outputs": [
    {
     "name": "stdout",
     "output_type": "stream",
     "text": [
      "10 11 12 13 14 15 16 17 18 19 "
     ]
    }
   ],
   "source": [
    "for num in range(10,20):\n",
    "    print(num, end=' ')"
   ]
  },
  {
   "cell_type": "code",
   "execution_count": null,
   "id": "c4282728-85d4-48f2-bf88-a4fa366bcd76",
   "metadata": {},
   "outputs": [],
   "source": [
    "# Print number of items in the list by using 'len'"
   ]
  },
  {
   "cell_type": "code",
   "execution_count": 3,
   "id": "6faa72af-2793-45c1-8f9d-8cb87729b078",
   "metadata": {},
   "outputs": [
    {
     "name": "stdout",
     "output_type": "stream",
     "text": [
      "[10, 20, 14, 55, 43, 87, 76]\n",
      "Number of items in the List2: \n",
      " 7\n"
     ]
    }
   ],
   "source": [
    "numList=[10, 20, 14, 55, 43, 87, 76]\n",
    "print(numList)\n",
    "print(\"Number of items in the List2:\", '\\n', len(numList))"
   ]
  },
  {
   "cell_type": "code",
   "execution_count": 4,
   "id": "a13826dc-5059-422b-a9fa-c029f7d5184c",
   "metadata": {},
   "outputs": [
    {
     "name": "stdout",
     "output_type": "stream",
     "text": [
      "Artificial Intelligence\n",
      "A\n",
      "r\n",
      "t\n",
      "i\n",
      "f\n",
      "i\n",
      "c\n",
      "i\n",
      "a\n",
      "l\n",
      " \n",
      "I\n",
      "n\n",
      "t\n",
      "e\n",
      "l\n",
      "l\n",
      "i\n",
      "g\n",
      "e\n",
      "n\n",
      "c\n",
      "e\n"
     ]
    }
   ],
   "source": [
    "text=\"Artificial Intelligence\"\n",
    "print(text)\n",
    "for word in text:\n",
    "    print(word)"
   ]
  },
  {
   "cell_type": "code",
   "execution_count": 5,
   "id": "1efca11c-cecc-4370-bf5f-8325b7c002e1",
   "metadata": {},
   "outputs": [
    {
     "name": "stdout",
     "output_type": "stream",
     "text": [
      "-Your Name-\n",
      "-Your Age-\n",
      "-Your Profession-\n"
     ]
    }
   ],
   "source": [
    "print(\"-Your Name-\")\n",
    "print(\"-Your Age-\")\n",
    "print(\"-Your Profession-\")"
   ]
  },
  {
   "cell_type": "code",
   "execution_count": 10,
   "id": "0e3fa402-a6d7-4fec-97e5-17c7caef35d8",
   "metadata": {},
   "outputs": [
    {
     "name": "stdout",
     "output_type": "stream",
     "text": [
      "(1, 'Welcome', 2, 'Hope')\n"
     ]
    }
   ],
   "source": [
    "# Print this mixered datatype using Tuples\n",
    "tuple=(1, 'Welcome', 2, 'Hope')\n",
    "print(tuple)"
   ]
  },
  {
   "cell_type": "code",
   "execution_count": 14,
   "id": "c8e6cded-c6ea-4cf6-8f5c-50ef8e91299e",
   "metadata": {},
   "outputs": [
    {
     "name": "stdout",
     "output_type": "stream",
     "text": [
      "((0, 1, 2, 3), ('python', 'HOPE'))\n"
     ]
    }
   ],
   "source": [
    "Tuple1 = (0, 1, 2, 3)\n",
    "Tuple2 = ('python', 'HOPE')\n",
    "print((Tuple1,Tuple2))"
   ]
  },
  {
   "cell_type": "code",
   "execution_count": 15,
   "id": "544a52b9-d4fa-42f2-b855-c8a94dd5d490",
   "metadata": {},
   "outputs": [
    {
     "name": "stdout",
     "output_type": "stream",
     "text": [
      "(20, 10, 16, 19, 25, 1, 276, 188)\n",
      "19 is odd\n",
      "25 is odd\n",
      "1 is odd\n"
     ]
    }
   ],
   "source": [
    "# print Odd Numbers in the list\n",
    "numbers=(20,10,16,19,25,1,276,188)\n",
    "print(numbers)\n",
    "for n in numbers:\n",
    "    if(n%2==1):\n",
    "        print(n , \"is odd\")"
   ]
  },
  {
   "cell_type": "code",
   "execution_count": 18,
   "id": "4753283f-a61b-4f2c-9ad8-f4b884aaedba",
   "metadata": {},
   "outputs": [
    {
     "name": "stdout",
     "output_type": "stream",
     "text": [
      "(20, 10, 16, 19, 25, 1, 276, 188)\n",
      "20 is even\n",
      "10 is even\n",
      "16 is even\n",
      "276 is even\n",
      "188 is even\n"
     ]
    }
   ],
   "source": [
    "#  print Even numbers in the list\n",
    "numbers=(20,10,16,19,25,1,276,188)\n",
    "print(numbers)\n",
    "for n in numbers:\n",
    "    if(n%2==0):\n",
    "        print(n , \"is even\")"
   ]
  },
  {
   "cell_type": "code",
   "execution_count": null,
   "id": "f29295f9-a517-4463-b7fe-1b05a9e2da66",
   "metadata": {},
   "outputs": [],
   "source": []
  }
 ],
 "metadata": {
  "kernelspec": {
   "display_name": "Python [conda env:base] *",
   "language": "python",
   "name": "conda-base-py"
  },
  "language_info": {
   "codemirror_mode": {
    "name": "ipython",
    "version": 3
   },
   "file_extension": ".py",
   "mimetype": "text/x-python",
   "name": "python",
   "nbconvert_exporter": "python",
   "pygments_lexer": "ipython3",
   "version": "3.13.5"
  }
 },
 "nbformat": 4,
 "nbformat_minor": 5
}
