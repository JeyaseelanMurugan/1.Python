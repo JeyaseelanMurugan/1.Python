{
 "cells": [
  {
   "cell_type": "code",
   "execution_count": 2,
   "id": "b742fffe-6303-4790-91b8-3e05bb284b27",
   "metadata": {},
   "outputs": [
    {
     "name": "stdout",
     "output_type": "stream",
     "text": [
      "Welcome to Assignment-1\n"
     ]
    }
   ],
   "source": [
    "print(\"Welcome to Assignment-1\")"
   ]
  },
  {
   "cell_type": "code",
   "execution_count": null,
   "id": "b2725fcc-472a-473d-b46d-b8e81d159fb1",
   "metadata": {},
   "outputs": [],
   "source": []
  },
  {
   "cell_type": "code",
   "execution_count": 5,
   "id": "70ce8fe1-bb35-4bad-bccf-849c7f489c6c",
   "metadata": {},
   "outputs": [
    {
     "name": "stdout",
     "output_type": "stream",
     "text": [
      "Num1= 10\n",
      "Num2= 30\n",
      "Add= 40\n"
     ]
    }
   ],
   "source": [
    "Num1=10\n",
    "Num2= 30\n",
    "Add= Num1+Num2\n",
    "print(\"Num1=\", Num1)\n",
    "print(\"Num2=\", Num2)\n",
    "print(\"Add=\", Add)\n"
   ]
  },
  {
   "cell_type": "code",
   "execution_count": null,
   "id": "213a041f-754b-4d03-aef4-d306face57b2",
   "metadata": {},
   "outputs": [],
   "source": [
    "# Body Mass Index"
   ]
  },
  {
   "cell_type": "code",
   "execution_count": 10,
   "id": "bd536388-78d6-4b02-8b5b-55117c168c7c",
   "metadata": {},
   "outputs": [
    {
     "name": "stdin",
     "output_type": "stream",
     "text": [
      "Enter the BMI Index: 34\n"
     ]
    },
    {
     "name": "stdout",
     "output_type": "stream",
     "text": [
      "Very Overweight\n"
     ]
    }
   ],
   "source": [
    "BMI=float(input(\"Enter the BMI Index:\"))\n",
    "if(BMI<18.5):\n",
    "    print(\"Underweight\")\n",
    "elif(BMI<24.9):\n",
    "    print(\"Normal\")\n",
    "elif(BMI<29):\n",
    "    print(\"Overweight\")\n",
    "else:\n",
    "    print(\"Very Overweight\")"
   ]
  },
  {
   "cell_type": "code",
   "execution_count": null,
   "id": "a47c30f9-dcc4-4cff-a2e2-676cc20909ff",
   "metadata": {},
   "outputs": [],
   "source": []
  }
 ],
 "metadata": {
  "kernelspec": {
   "display_name": "Python [conda env:base] *",
   "language": "python",
   "name": "conda-base-py"
  },
  "language_info": {
   "codemirror_mode": {
    "name": "ipython",
    "version": 3
   },
   "file_extension": ".py",
   "mimetype": "text/x-python",
   "name": "python",
   "nbconvert_exporter": "python",
   "pygments_lexer": "ipython3",
   "version": "3.13.5"
  }
 },
 "nbformat": 4,
 "nbformat_minor": 5
}
