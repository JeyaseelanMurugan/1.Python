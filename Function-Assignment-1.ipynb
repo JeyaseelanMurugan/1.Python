{
 "cells": [
  {
   "cell_type": "code",
   "execution_count": 5,
   "id": "7973e5d3-cb8f-45a3-aecb-1200231f83b1",
   "metadata": {},
   "outputs": [],
   "source": [
    "def Subfields():\n",
    "    print(\"Sub-fields in AI are:\\nMachine Learning\\nNeural Networks\\nVision\\nRobotics\\nSpeech Processing\\nNatural Language Processing\")"
   ]
  },
  {
   "cell_type": "code",
   "execution_count": 6,
   "id": "91fcd8a1-7111-4595-9d50-b9b6732cf5a6",
   "metadata": {},
   "outputs": [
    {
     "name": "stdout",
     "output_type": "stream",
     "text": [
      "Sub-fields in AI are:\n",
      "Machine Learning\n",
      "Neural Networks\n",
      "Vision\n",
      "Robotics\n",
      "Speech Processing\n",
      "Natural Language Processing\n"
     ]
    }
   ],
   "source": [
    "Subfields()"
   ]
  },
  {
   "cell_type": "code",
   "execution_count": 52,
   "id": "56babcc4-7c67-4c6d-bc7d-6e170dc7ca46",
   "metadata": {},
   "outputs": [],
   "source": [
    "# Create a function that checks whether the given number is Odd or Even\n",
    "def OddEven():\n",
    "    num = int(input(\"Enter a number:\"))\n",
    "    print(\"Enter a number:\", num)\n",
    "    if(num%2==1):\n",
    "        print(num, \"is Odd Number\")\n",
    "    else:\n",
    "        print(num, \"is Even Number\")"
   ]
  },
  {
   "cell_type": "code",
   "execution_count": 53,
   "id": "62a7c72b-e87e-46b5-b41f-b85823cf235d",
   "metadata": {},
   "outputs": [
    {
     "name": "stdin",
     "output_type": "stream",
     "text": [
      "Enter a number: 52452\n"
     ]
    },
    {
     "name": "stdout",
     "output_type": "stream",
     "text": [
      "Enter a number: 52452\n",
      "52452 is Even Number\n"
     ]
    }
   ],
   "source": [
    "OddEven()"
   ]
  },
  {
   "cell_type": "code",
   "execution_count": 54,
   "id": "42b822fe-6e6e-4009-aac1-ba1da612ed79",
   "metadata": {},
   "outputs": [],
   "source": [
    "# Create a function that tells elegibility of marriage for male and female according to their age limit like 21 for male and 18 for female\n",
    "def EligibilityForMarriage():\n",
    "    gender=input(\"Your Gender:\").lower()\n",
    "    print(\"Your Gender:\", gender)\n",
    "    age=int(input(\"Your Age:\"))\n",
    "    print(\"Your Age:\", age)\n",
    "    if(gender==\"male\" and age >= 21):\n",
    "        print(\"ELIGIBLE\")\n",
    "    elif(gender==\"female\" and age >= 18):\n",
    "        print(\"ELIGIBLE\")\n",
    "    else:\n",
    "        print(\"NOT ELIGIBLE\")\n"
   ]
  },
  {
   "cell_type": "code",
   "execution_count": 55,
   "id": "06d0894d-d6e6-4bde-898b-2ebe560d707b",
   "metadata": {},
   "outputs": [
    {
     "name": "stdin",
     "output_type": "stream",
     "text": [
      "Your Gender: Male\n"
     ]
    },
    {
     "name": "stdout",
     "output_type": "stream",
     "text": [
      "Your Gender: male\n"
     ]
    },
    {
     "name": "stdin",
     "output_type": "stream",
     "text": [
      "Your Age: 20\n"
     ]
    },
    {
     "name": "stdout",
     "output_type": "stream",
     "text": [
      "Your Age: 20\n",
      "NOT ELIGIBLE\n"
     ]
    }
   ],
   "source": [
    "EligibilityForMarriage()"
   ]
  },
  {
   "cell_type": "code",
   "execution_count": 50,
   "id": "c5618a2c-da05-4ea4-ae29-9f4988e5637e",
   "metadata": {},
   "outputs": [],
   "source": [
    "# calculate the percentage of your 10th mark\n",
    "def Percentage(s1,s2,s3,s4,s5):\n",
    "    print(\"Subject1=\",s1,\"\\nSubject2=\",s2,\"\\nSubject3=\",s3,\"\\nSubject4=\",s4,\"\\nSubject5=\",s5)\n",
    "    total=s1+s2+s3+s4+s5\n",
    "    print(\"Total:\",total)\n",
    "    percentage = (total / 500) * 100\n",
    "    print(\"Percentage:\", percentage)"
   ]
  },
  {
   "cell_type": "code",
   "execution_count": 51,
   "id": "da57b930-2da6-42c0-abc5-1342602ae4ab",
   "metadata": {},
   "outputs": [
    {
     "name": "stdout",
     "output_type": "stream",
     "text": [
      "Subject1= 98 \n",
      "Subject2= 87 \n",
      "Subject3= 95 \n",
      "Subject4= 95 \n",
      "Subject5= 93\n",
      "Total: 468\n",
      "Percentage: 93.60000000000001\n"
     ]
    }
   ],
   "source": [
    "Percentage(98,87,95,95,93)"
   ]
  },
  {
   "cell_type": "code",
   "execution_count": 56,
   "id": "a59aeb61-ea3e-48ac-9e65-8dfafdcfa50d",
   "metadata": {},
   "outputs": [],
   "source": [
    "#print area and perimeter of triangle using functions\n",
    "def Triangle():\n",
    "    height=int(input(\"Height:\"))\n",
    "    print(\"Height:\", height)\n",
    "    breadth=int(input(\"Breadth:\"))\n",
    "    print(\"breadth:\", breadth)\n",
    "    print(\"Area formula: (Height*Breadth)/2\")\n",
    "    area=(height*breadth)/2\n",
    "    print(\"Area of Tirangle:\", area)\n",
    "    height1=int(input(\"Height1:\"))\n",
    "    print(\"Height1:\", height1)\n",
    "    height2=int(input(\"Height2:\"))\n",
    "    print(\"Height2:\", height2)\n",
    "    breadth=int(input(\"Breadth:\"))\n",
    "    print(\"Perimeter formula: Height1+Height2+Breadth\")\n",
    "    perimeter=height1+height2+breadth\n",
    "    print(\"Perimeter of Triangle:\", perimeter)\n",
    "    "
   ]
  },
  {
   "cell_type": "code",
   "execution_count": 57,
   "id": "db309533-ae4e-4e35-987f-d20bd94524ab",
   "metadata": {},
   "outputs": [
    {
     "name": "stdin",
     "output_type": "stream",
     "text": [
      "Height: 32\n"
     ]
    },
    {
     "name": "stdout",
     "output_type": "stream",
     "text": [
      "Height: 32\n"
     ]
    },
    {
     "name": "stdin",
     "output_type": "stream",
     "text": [
      "Breadth: 34\n"
     ]
    },
    {
     "name": "stdout",
     "output_type": "stream",
     "text": [
      "breadth: 34\n",
      "Area formula: (Height*Breadth)/2\n",
      "Area of Tirangle: 544.0\n"
     ]
    },
    {
     "name": "stdin",
     "output_type": "stream",
     "text": [
      "Height1: 2\n"
     ]
    },
    {
     "name": "stdout",
     "output_type": "stream",
     "text": [
      "Height1: 2\n"
     ]
    },
    {
     "name": "stdin",
     "output_type": "stream",
     "text": [
      "Height2: 4\n"
     ]
    },
    {
     "name": "stdout",
     "output_type": "stream",
     "text": [
      "Height2: 4\n"
     ]
    },
    {
     "name": "stdin",
     "output_type": "stream",
     "text": [
      "Breadth: 4\n"
     ]
    },
    {
     "name": "stdout",
     "output_type": "stream",
     "text": [
      "Perimeter formula: Height1+Height2+Breadth\n",
      "Perimeter of Triangle: 10\n"
     ]
    }
   ],
   "source": [
    "Triangle()"
   ]
  },
  {
   "cell_type": "code",
   "execution_count": null,
   "id": "4a2af1eb-7aa1-42b7-b92a-b167cdb120f5",
   "metadata": {},
   "outputs": [],
   "source": []
  }
 ],
 "metadata": {
  "kernelspec": {
   "display_name": "Python [conda env:base] *",
   "language": "python",
   "name": "conda-base-py"
  },
  "language_info": {
   "codemirror_mode": {
    "name": "ipython",
    "version": 3
   },
   "file_extension": ".py",
   "mimetype": "text/x-python",
   "name": "python",
   "nbconvert_exporter": "python",
   "pygments_lexer": "ipython3",
   "version": "3.13.5"
  }
 },
 "nbformat": 4,
 "nbformat_minor": 5
}
