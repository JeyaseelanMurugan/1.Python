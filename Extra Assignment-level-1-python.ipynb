{
 "cells": [
  {
   "cell_type": "code",
   "execution_count": null,
   "id": "276eb080-46b3-42d9-81b1-1e08e40baa58",
   "metadata": {},
   "outputs": [],
   "source": [
    "#print Statement"
   ]
  },
  {
   "cell_type": "code",
   "execution_count": 2,
   "id": "b875fc0b-8b7a-40d3-a478-b88795c4539a",
   "metadata": {},
   "outputs": [
    {
     "name": "stdout",
     "output_type": "stream",
     "text": [
      "HOPE AI\n"
     ]
    }
   ],
   "source": [
    "print(\"HOPE AI\")"
   ]
  },
  {
   "cell_type": "code",
   "execution_count": null,
   "id": "f2de00aa-3ba8-4a21-90df-6a8d1093eeec",
   "metadata": {},
   "outputs": [],
   "source": [
    "#Buy input"
   ]
  },
  {
   "cell_type": "code",
   "execution_count": 3,
   "id": "5f4b7d6f-c429-40a3-9e4f-e4d5c71fbd6b",
   "metadata": {},
   "outputs": [
    {
     "name": "stdin",
     "output_type": "stream",
     "text": [
      "Enter your institute name? : HOPE AI\n"
     ]
    }
   ],
   "source": [
    "instName=input(\"Enter your institute name? :\")"
   ]
  },
  {
   "cell_type": "code",
   "execution_count": null,
   "id": "2aba92a0-7477-4e66-bb7a-17417bda1134",
   "metadata": {},
   "outputs": [],
   "source": [
    "#Buy inputs"
   ]
  },
  {
   "cell_type": "code",
   "execution_count": 4,
   "id": "005c015d-ced9-408b-9085-0deb455ec0dd",
   "metadata": {},
   "outputs": [
    {
     "name": "stdin",
     "output_type": "stream",
     "text": [
      "Enter your name: Raj\n",
      "Enter your age: 15\n",
      "Enter your school name: Guru school\n",
      "Enter your degree: B.E CSE\n"
     ]
    }
   ],
   "source": [
    "yourName=input(\"Enter your name:\")\n",
    "yourAge=int(input(\"Enter your age:\"))\n",
    "schoolName=input(\"Enter your school name:\")\n",
    "yourDegree=input(\"Enter your degree:\")\n"
   ]
  },
  {
   "cell_type": "code",
   "execution_count": null,
   "id": "eda417fc-5e92-40f2-986f-e7a306a37d41",
   "metadata": {},
   "outputs": [],
   "source": [
    "#Addition"
   ]
  },
  {
   "cell_type": "code",
   "execution_count": 6,
   "id": "0b55caed-041a-42a0-b69d-8cc1d4ccfd3b",
   "metadata": {},
   "outputs": [
    {
     "name": "stdin",
     "output_type": "stream",
     "text": [
      "a= 43\n",
      "b= 34\n"
     ]
    },
    {
     "name": "stdout",
     "output_type": "stream",
     "text": [
      "add= 77\n"
     ]
    }
   ],
   "source": [
    "num1=int(input(\"a=\"))\n",
    "num2=int(input(\"b=\"))\n",
    "add=num1+num2\n",
    "print(\"add=\", add)"
   ]
  },
  {
   "cell_type": "code",
   "execution_count": null,
   "id": "29a38562-8fdb-4b5f-b8c2-4a149a7d5a3c",
   "metadata": {},
   "outputs": [],
   "source": [
    "#Substraction"
   ]
  },
  {
   "cell_type": "code",
   "execution_count": 9,
   "id": "c3b24ee0-5abf-4765-8c42-b40cbfec97cb",
   "metadata": {},
   "outputs": [
    {
     "name": "stdin",
     "output_type": "stream",
     "text": [
      "a= 43\n",
      "b= 34\n"
     ]
    },
    {
     "name": "stdout",
     "output_type": "stream",
     "text": [
      "Sub= 9\n"
     ]
    }
   ],
   "source": [
    "num1=int(input(\"a=\"))\n",
    "num2=int(input(\"b=\"))\n",
    "print(\"Sub=\", num1-num2)"
   ]
  },
  {
   "cell_type": "code",
   "execution_count": null,
   "id": "2998918e-29a4-4839-b5e4-1e7c2e6a0067",
   "metadata": {},
   "outputs": [],
   "source": [
    "#Multiplication"
   ]
  },
  {
   "cell_type": "code",
   "execution_count": 10,
   "id": "048ece0b-1a94-4da3-aeca-4392a5f6d94f",
   "metadata": {},
   "outputs": [
    {
     "name": "stdin",
     "output_type": "stream",
     "text": [
      "a= 63\n",
      "b= 97\n"
     ]
    },
    {
     "name": "stdout",
     "output_type": "stream",
     "text": [
      "Mul= 6111\n"
     ]
    }
   ],
   "source": [
    "num1=int(input(\"a=\"))\n",
    "num2=int(input(\"b=\"))\n",
    "print(\"Mul=\", num1*num2)"
   ]
  },
  {
   "cell_type": "code",
   "execution_count": null,
   "id": "afe03d1c-87c5-4a77-a11a-647045f5c605",
   "metadata": {},
   "outputs": [],
   "source": [
    "#Division"
   ]
  },
  {
   "cell_type": "code",
   "execution_count": 11,
   "id": "d4e28ed6-48fd-4654-83e3-e154a54b3862",
   "metadata": {},
   "outputs": [
    {
     "name": "stdin",
     "output_type": "stream",
     "text": [
      "a= 76\n",
      "b= 31\n"
     ]
    },
    {
     "name": "stdout",
     "output_type": "stream",
     "text": [
      "Float Div= 2.4516129032258065\n"
     ]
    }
   ],
   "source": [
    "num1=int(input(\"a=\"))\n",
    "num2=int(input(\"b=\"))\n",
    "print(\"Float Div=\", num1/num2)"
   ]
  },
  {
   "cell_type": "code",
   "execution_count": null,
   "id": "4ca0786e-4b02-4de6-a32f-42266dd1e8a6",
   "metadata": {},
   "outputs": [],
   "source": [
    "#Floor division"
   ]
  },
  {
   "cell_type": "code",
   "execution_count": 12,
   "id": "348f9a83-5c91-4b8c-a243-49dff0275a0a",
   "metadata": {},
   "outputs": [
    {
     "name": "stdin",
     "output_type": "stream",
     "text": [
      "a= 76\n",
      "b= 31\n"
     ]
    },
    {
     "name": "stdout",
     "output_type": "stream",
     "text": [
      "Floor Div= 2\n"
     ]
    }
   ],
   "source": [
    "num1=int(input(\"a=\"))\n",
    "num2=int(input(\"b=\"))\n",
    "print(\"Floor Div=\", num1//num2) "
   ]
  },
  {
   "cell_type": "code",
   "execution_count": null,
   "id": "bf2d3138-ef92-4c2c-ab7a-496dcf8a9918",
   "metadata": {},
   "outputs": [],
   "source": [
    "#Modulo"
   ]
  },
  {
   "cell_type": "code",
   "execution_count": 13,
   "id": "0707ec26-54a1-4770-a050-32a08371d7b4",
   "metadata": {},
   "outputs": [
    {
     "name": "stdin",
     "output_type": "stream",
     "text": [
      "a= 76\n",
      "b= 31\n"
     ]
    },
    {
     "name": "stdout",
     "output_type": "stream",
     "text": [
      "Modulo= 14\n"
     ]
    }
   ],
   "source": [
    "num1=int(input(\"a=\"))\n",
    "num2=int(input(\"b=\"))\n",
    "print(\"Modulo=\", num1%num2) "
   ]
  },
  {
   "cell_type": "code",
   "execution_count": null,
   "id": "56c84063-0a55-48c1-ae9b-cf6c6129d71f",
   "metadata": {},
   "outputs": [],
   "source": [
    "#power"
   ]
  },
  {
   "cell_type": "code",
   "execution_count": 14,
   "id": "e120c143-f9b7-4a46-aac5-c4d8b60f5b30",
   "metadata": {},
   "outputs": [
    {
     "name": "stdin",
     "output_type": "stream",
     "text": [
      "a= 4\n",
      "b= 4\n"
     ]
    },
    {
     "name": "stdout",
     "output_type": "stream",
     "text": [
      "Power= 256\n"
     ]
    }
   ],
   "source": [
    "num1=int(input(\"a=\"))\n",
    "num2=int(input(\"b=\"))\n",
    "print(\"Power=\", num1**num2) "
   ]
  },
  {
   "cell_type": "code",
   "execution_count": null,
   "id": "85212a64-5551-4dd2-b9c1-84f34c99fed6",
   "metadata": {},
   "outputs": [],
   "source": []
  }
 ],
 "metadata": {
  "kernelspec": {
   "display_name": "Python [conda env:base] *",
   "language": "python",
   "name": "conda-base-py"
  },
  "language_info": {
   "codemirror_mode": {
    "name": "ipython",
    "version": 3
   },
   "file_extension": ".py",
   "mimetype": "text/x-python",
   "name": "python",
   "nbconvert_exporter": "python",
   "pygments_lexer": "ipython3",
   "version": "3.13.5"
  }
 },
 "nbformat": 4,
 "nbformat_minor": 5
}
